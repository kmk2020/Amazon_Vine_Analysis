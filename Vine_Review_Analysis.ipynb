{
  "nbformat": 4,
  "nbformat_minor": 0,
  "metadata": {
    "colab": {
      "name": "Vine_Review_Analysis.ipynb",
      "provenance": []
    },
    "kernelspec": {
      "name": "python3",
      "display_name": "Python 3"
    },
    "language_info": {
      "name": "python"
    }
  },
  "cells": [
    {
      "cell_type": "code",
      "execution_count": null,
      "metadata": {
        "colab": {
          "base_uri": "https://localhost:8080/"
        },
        "id": "l-nkUUKwlwEO",
        "outputId": "f6f6e027-c151-42fe-ec3e-7007c915a34b"
      },
      "outputs": [
        {
          "output_type": "stream",
          "name": "stdout",
          "text": [
            "\r0% [Working]\r            \rGet:1 http://security.ubuntu.com/ubuntu bionic-security InRelease [88.7 kB]\n",
            "\r0% [Connecting to archive.ubuntu.com (185.125.190.36)] [1 InRelease 14.2 kB/88.\r                                                                               \rHit:2 https://developer.download.nvidia.com/compute/cuda/repos/ubuntu1804/x86_64  InRelease\n",
            "Get:3 https://cloud.r-project.org/bin/linux/ubuntu bionic-cran40/ InRelease [3,626 B]\n",
            "Hit:4 http://archive.ubuntu.com/ubuntu bionic InRelease\n",
            "Hit:5 http://ppa.launchpad.net/c2d4u.team/c2d4u4.0+/ubuntu bionic InRelease\n",
            "Ign:6 https://developer.download.nvidia.com/compute/machine-learning/repos/ubuntu1804/x86_64  InRelease\n",
            "Hit:7 https://developer.download.nvidia.com/compute/machine-learning/repos/ubuntu1804/x86_64  Release\n",
            "Get:8 http://archive.ubuntu.com/ubuntu bionic-updates InRelease [88.7 kB]\n",
            "Hit:9 http://ppa.launchpad.net/cran/libgit2/ubuntu bionic InRelease\n",
            "Hit:10 http://ppa.launchpad.net/deadsnakes/ppa/ubuntu bionic InRelease\n",
            "Get:11 http://archive.ubuntu.com/ubuntu bionic-backports InRelease [74.6 kB]\n",
            "Get:12 https://cloud.r-project.org/bin/linux/ubuntu bionic-cran40/ Packages [85.6 kB]\n",
            "Hit:13 http://ppa.launchpad.net/graphics-drivers/ppa/ubuntu bionic InRelease\n",
            "Get:14 http://security.ubuntu.com/ubuntu bionic-security/universe amd64 Packages [1,526 kB]\n",
            "Get:15 http://security.ubuntu.com/ubuntu bionic-security/restricted amd64 Packages [1,063 kB]\n",
            "Get:16 http://security.ubuntu.com/ubuntu bionic-security/main amd64 Packages [2,900 kB]\n",
            "Get:18 http://archive.ubuntu.com/ubuntu bionic-updates/main amd64 Packages [3,332 kB]\n",
            "Get:19 http://archive.ubuntu.com/ubuntu bionic-updates/restricted amd64 Packages [1,105 kB]\n",
            "Get:20 http://archive.ubuntu.com/ubuntu bionic-updates/universe amd64 Packages [2,302 kB]\n",
            "Fetched 12.6 MB in 5s (2,697 kB/s)\n",
            "Reading package lists... Done\n"
          ]
        }
      ],
      "source": [
        "import os\n",
        "# Find the latest version of spark 3.0 from http://www.apache.org/dist/spark/ and enter as the spark version\n",
        "# For example:\n",
        "# spark_version = 'spark-3.0.3'\n",
        "spark_version = 'spark-3.0.3'\n",
        "os.environ['SPARK_VERSION']=spark_version\n",
        "\n",
        "# Install Spark and Java\n",
        "!apt-get update\n",
        "!apt-get install openjdk-11-jdk-headless -qq > /dev/null\n",
        "!wget -q http://www.apache.org/dist/spark/$SPARK_VERSION/$SPARK_VERSION-bin-hadoop2.7.tgz\n",
        "!tar xf $SPARK_VERSION-bin-hadoop2.7.tgz\n",
        "!pip install -q findspark\n",
        "\n",
        "# Set Environment Variables\n",
        "import os\n",
        "os.environ[\"JAVA_HOME\"] = \"/usr/lib/jvm/java-11-openjdk-amd64\"\n",
        "os.environ[\"SPARK_HOME\"] = f\"/content/{spark_version}-bin-hadoop2.7\"\n",
        "\n",
        "# Start a SparkSession\n",
        "import findspark\n",
        "findspark.init()"
      ]
    },
    {
      "cell_type": "code",
      "source": [
        "# Download the Postgres driver that will allow Spark to interact with Postgres.\n",
        "!wget https://jdbc.postgresql.org/download/postgresql-42.2.16.jar"
      ],
      "metadata": {
        "colab": {
          "base_uri": "https://localhost:8080/"
        },
        "id": "AS4Fez2Dl0LQ",
        "outputId": "29b6ec04-0c4e-4194-e5f7-1fab98c23955"
      },
      "execution_count": null,
      "outputs": [
        {
          "output_type": "stream",
          "name": "stdout",
          "text": [
            "--2022-07-19 12:39:30--  https://jdbc.postgresql.org/download/postgresql-42.2.16.jar\n",
            "Resolving jdbc.postgresql.org (jdbc.postgresql.org)... 72.32.157.228, 2001:4800:3e1:1::228\n",
            "Connecting to jdbc.postgresql.org (jdbc.postgresql.org)|72.32.157.228|:443... connected.\n",
            "HTTP request sent, awaiting response... 200 OK\n",
            "Length: 1002883 (979K) [application/java-archive]\n",
            "Saving to: ‘postgresql-42.2.16.jar’\n",
            "\n",
            "postgresql-42.2.16. 100%[===================>] 979.38K  --.-KB/s    in 0.1s    \n",
            "\n",
            "2022-07-19 12:39:31 (6.54 MB/s) - ‘postgresql-42.2.16.jar’ saved [1002883/1002883]\n",
            "\n"
          ]
        }
      ]
    },
    {
      "cell_type": "code",
      "source": [
        "from pyspark.sql import SparkSession\n",
        "spark = SparkSession.builder.appName(\"M16-D2-Amazon-Challenge\").config(\"spark.driver.extraClassPath\",\"/content/postgresql-42.2.16.jar\").getOrCreate()"
      ],
      "metadata": {
        "id": "FkB3gMU5l3zQ"
      },
      "execution_count": null,
      "outputs": []
    },
    {
      "cell_type": "code",
      "source": [
        "## Load Data"
      ],
      "metadata": {
        "id": "7eEIMpnMnO6q"
      },
      "execution_count": null,
      "outputs": []
    },
    {
      "cell_type": "code",
      "source": [
        "from pyspark import SparkFiles\n",
        "url = \"https://s3.amazonaws.com/amazon-reviews-pds/tsv/amazon_reviews_us_Digital_Ebook_Purchase_v1_01.tsv.gz\"\n",
        "spark.sparkContext.addFile(url)\n",
        "df = spark.read.option(\"encoding\", \"UTF-8\").csv(SparkFiles.get(\"\"), sep=\"\\t\", header=True, inferSchema=True)\n",
        "df.show()"
      ],
      "metadata": {
        "colab": {
          "base_uri": "https://localhost:8080/"
        },
        "id": "C-TAjGlTnauJ",
        "outputId": "8bd705de-2724-46e1-8146-6080f9284283"
      },
      "execution_count": null,
      "outputs": [
        {
          "output_type": "stream",
          "name": "stdout",
          "text": [
            "+-----------+-----------+--------------+----------+--------------+--------------------+--------------------+-----------+-------------+-----------+----+-----------------+--------------------+--------------------+-----------+\n",
            "|marketplace|customer_id|     review_id|product_id|product_parent|       product_title|    product_category|star_rating|helpful_votes|total_votes|vine|verified_purchase|     review_headline|         review_body|review_date|\n",
            "+-----------+-----------+--------------+----------+--------------+--------------------+--------------------+-----------+-------------+-----------+----+-----------------+--------------------+--------------------+-----------+\n",
            "|         US|   33605939| RGYFDX8QXKEIR|B007KO2MLO|     328837464|           Big Maria|Digital_Ebook_Pur...|          4|            0|          0|   N|                N|              Quirky|Elmore Leonard me...| 2013-09-09|\n",
            "|         US|   34058393|R13CBGTMNV9R8Z|B005FLODDE|     764276359|The Woman Who Was...|Digital_Ebook_Pur...|          4|            1|          2|   N|                Y|The Woman Who Was...|This book was ver...| 2013-09-09|\n",
            "|         US|   39601147| R7DRFHC0F71O0|B00EA3L35O|     535606445|Mary had A Sleepy...|Digital_Ebook_Pur...|          5|            0|          0|   N|                N|This Sleepy Sheep...|I had the opportu...| 2013-09-09|\n",
            "|         US|   17351407|R27LUKEXU3KBXQ|B00BL3JV50|     240053004|          Starstruck|Digital_Ebook_Pur...|          5|            1|          1|   N|                Y|Steamy and suspen...|What a great read...| 2013-09-09|\n",
            "|         US|   10463387|R1VXTPUYMNU687|B00CXU7U80|     931529805|The Complete Cona...|Digital_Ebook_Pur...|          5|            1|          2|   N|                N|          Barbarians|Barbarians need l...| 2013-09-09|\n",
            "|         US|   50484904|R30DKW1GJWLPZC|B004EWGS5G|     442453110|The Middle Passag...|Digital_Ebook_Pur...|          3|            1|          2|   N|                Y|            Menu....|It was okay obvio...| 2013-09-09|\n",
            "|         US|    7145636|R18DPFG2FALJI9|B00BNRJAT6|     856774152|Hide in Plain Sig...|Digital_Ebook_Pur...|          5|            0|          0|   N|                Y|        Awesome book|Very interesting ...| 2013-09-09|\n",
            "|         US|    6285538|R24D677N5WBW5Q|B007FZOXJM|       5589837|Face of Betrayal ...|Digital_Ebook_Pur...|          5|            0|          0|   N|                Y|    Face of betrayal|Really enjoyed th...| 2013-09-09|\n",
            "|         US|   10278048|R2FCJ9BQLSIOR3|B00B6AK7LU|     362701357|Final Justice (A ...|Digital_Ebook_Pur...|          5|            0|          0|   N|                Y|           Very good|I really liked th...| 2013-09-09|\n",
            "|         US|   16568972|R1R6K4MAKDWTXI|B00EVMMLU0|     342745087|Falling For My Hu...|Digital_Ebook_Pur...|          4|            0|          0|   N|                Y|Ouch! My neck is ...|Reading Callum an...| 2013-09-09|\n",
            "|         US|   26001763|R3R5DILCWM8J7B|B00E4W4984|     186117550|  Forgetting Tabitha|Digital_Ebook_Pur...|          5|            0|          0|   N|                Y|It was a wonderfu...|I really enjoyed ...| 2013-09-09|\n",
            "|         US|   48203259| RR5K72IZOCOFE|B005A1JBB8|     947574172|The Blacksmith's ...|Digital_Ebook_Pur...|          4|            0|          0|   N|                N|       Worth reading|Although not comp...| 2013-09-09|\n",
            "|         US|   45028038|R3K9PJU5GLDY3O|B0044DELIQ|     427899617|Vampire Vacation:...|Digital_Ebook_Pur...|          5|            1|          2|   N|                Y|      Very Good Romp|Enjoyed the chara...| 2013-09-09|\n",
            "|         US|   42554355|R1KTZMCDOJXAEK|B00DJQYATE|     184945574|By the Tail (Coug...|Digital_Ebook_Pur...|          5|            0|          0|   N|                N|    Love this Series|I love the Cougar...| 2013-09-09|\n",
            "|         US|   11251156|R3SBEH4Y3W9W11|B004XFYNNS|     820449163|The Kingdom (A Fa...|Digital_Ebook_Pur...|          5|            0|          0|   N|                Y|    Love this author|I really enjoy Cl...| 2013-09-09|\n",
            "|         US|   44677006|R3GB8WOHSWW2EG|B00A27Z6GO|     969993834|6 Erotic Bedtime ...|Digital_Ebook_Pur...|          3|            0|          0|   N|                Y|    Didn't finish...|I have to admit I...| 2013-09-09|\n",
            "|         US|   34645512| RDM68WMOEDNRJ|B008EGV4BQ|      36906356|The Purpose Drive...|Digital_Ebook_Pur...|          5|            0|          0|   N|                Y|Can't unread it now!|Thanx paster Rick...| 2013-09-09|\n",
            "|         US|   16137650|R3TW70YF2WZK9O|B00655U3WE|     941986263|Insurgent (Diverg...|Digital_Ebook_Pur...|          5|            0|          0|   N|                Y|Great second inst...|As with divergent...| 2013-09-09|\n",
            "|         US|    4514126|R39ESX43X1SA5T|B006NG0GXQ|     402593554|Forever His: A Ti...|Digital_Ebook_Pur...|          1|           36|         47|   N|                Y|   Completely absurd|From the time tha...| 2013-09-09|\n",
            "|         US|   44803855|R3MCA5W3BZ65OU|B008J4RPWA|     804503161|Summerset Abbey: ...|Digital_Ebook_Pur...|          5|            0|          0|   N|                Y|#2, just as good ...|I love the intera...| 2013-09-09|\n",
            "+-----------+-----------+--------------+----------+--------------+--------------------+--------------------+-----------+-------------+-----------+----+-----------------+--------------------+--------------------+-----------+\n",
            "only showing top 20 rows\n",
            "\n"
          ]
        }
      ]
    },
    {
      "cell_type": "markdown",
      "source": [
        "**Deliverable 2**"
      ],
      "metadata": {
        "id": "orReJpdOnjOY"
      }
    },
    {
      "cell_type": "code",
      "source": [
        "# Filter the data and create a new DataFrame or table to retrieve all the rows\n",
        "# where the total_votes count is equal to or greater than 20 to pick reviews that are more likely to be helpful \n",
        "# and to avoid having division by zero errors later on.(used 10 to try to get appropriate data)\n",
        "totalvotes_df = df.filter(\"total_votes>=10\")\n",
        "totalvotes_df.count()"
      ],
      "metadata": {
        "colab": {
          "base_uri": "https://localhost:8080/"
        },
        "id": "_TZKmOGDnwmN",
        "outputId": "5233abc9-50bf-45f2-d81a-2a5bf0b06581"
      },
      "execution_count": null,
      "outputs": [
        {
          "output_type": "execute_result",
          "data": {
            "text/plain": [
              "223274"
            ]
          },
          "metadata": {},
          "execution_count": 17
        }
      ]
    },
    {
      "cell_type": "code",
      "source": [
        "# Filter the new DataFrame or table created in Step 1 and create a new DataFrame or table \n",
        "# to retrieve all the rows where the number of helpful_votes divided by total_votes is equal to or greater than 50%(used 30% to see whether i could get some sections to run)\n",
        "helpful_50_df = totalvotes_df.filter(\"helpful_votes/total_votes>=.30\")\n",
        "helpful_50_df.count()"
      ],
      "metadata": {
        "colab": {
          "base_uri": "https://localhost:8080/"
        },
        "id": "rjL49JFAo-k8",
        "outputId": "8c5f1157-c087-49b3-da07-86b325b3dd8b"
      },
      "execution_count": null,
      "outputs": [
        {
          "output_type": "execute_result",
          "data": {
            "text/plain": [
              "194191"
            ]
          },
          "metadata": {},
          "execution_count": 21
        }
      ]
    },
    {
      "cell_type": "code",
      "source": [
        "print(helpful_50_df.count())"
      ],
      "metadata": {
        "colab": {
          "base_uri": "https://localhost:8080/"
        },
        "id": "wJKTBmYWr5Xa",
        "outputId": "59b6569d-6b6f-4549-adc9-07b6dd6e29e2"
      },
      "execution_count": null,
      "outputs": [
        {
          "output_type": "stream",
          "name": "stdout",
          "text": [
            "194191\n"
          ]
        }
      ]
    },
    {
      "cell_type": "code",
      "source": [
        "vine_review_df = helpful_50_df.filter(helpful_50_df[\"vine\"] == \"Y\")\n",
        "vine_review_df.show()"
      ],
      "metadata": {
        "colab": {
          "base_uri": "https://localhost:8080/"
        },
        "id": "PAzqf9b0sLuV",
        "outputId": "5ab491c1-6e06-42dd-a781-a361b421f60e"
      },
      "execution_count": null,
      "outputs": [
        {
          "output_type": "stream",
          "name": "stdout",
          "text": [
            "+-----------+-----------+---------+----------+--------------+-------------+----------------+-----------+-------------+-----------+----+-----------------+---------------+-----------+-----------+\n",
            "|marketplace|customer_id|review_id|product_id|product_parent|product_title|product_category|star_rating|helpful_votes|total_votes|vine|verified_purchase|review_headline|review_body|review_date|\n",
            "+-----------+-----------+---------+----------+--------------+-------------+----------------+-----------+-------------+-----------+----+-----------------+---------------+-----------+-----------+\n",
            "+-----------+-----------+---------+----------+--------------+-------------+----------------+-----------+-------------+-----------+----+-----------------+---------------+-----------+-----------+\n",
            "\n"
          ]
        }
      ]
    },
    {
      "cell_type": "code",
      "source": [
        "novine_review_df = helpful_50_df.filter(helpful_50_df[\"vine\"] == \"N\")\n",
        "novine_review_df.show()"
      ],
      "metadata": {
        "colab": {
          "base_uri": "https://localhost:8080/"
        },
        "id": "SvcL6er5eQER",
        "outputId": "d0cc3230-484d-4edd-9420-9dd9a231a8a3"
      },
      "execution_count": null,
      "outputs": [
        {
          "output_type": "stream",
          "name": "stdout",
          "text": [
            "+-----------+-----------+--------------+----------+--------------+--------------------+--------------------+-----------+-------------+-----------+----+-----------------+--------------------+--------------------+-----------+\n",
            "|marketplace|customer_id|     review_id|product_id|product_parent|       product_title|    product_category|star_rating|helpful_votes|total_votes|vine|verified_purchase|     review_headline|         review_body|review_date|\n",
            "+-----------+-----------+--------------+----------+--------------+--------------------+--------------------+-----------+-------------+-----------+----+-----------------+--------------------+--------------------+-----------+\n",
            "|         US|    4514126|R39ESX43X1SA5T|B006NG0GXQ|     402593554|Forever His: A Ti...|Digital_Ebook_Pur...|          1|           36|         47|   N|                Y|   Completely absurd|From the time tha...| 2013-09-09|\n",
            "|         US|   45292583|R31QRZ3JAMPBB4|B0078T6YHY|     267532424|A Lady in Defianc...|Digital_Ebook_Pur...|          1|           16|         26|   N|                Y|           No thanks|This work should ...| 2013-09-09|\n",
            "|         US|   46784598| RLVX3GUO7DF10|B00CKXCNH8|     660540366|Pilgrim's Inn (Th...|Digital_Ebook_Pur...|          4|           12|         12|   N|                Y|Fell in love with...|I like books that...| 2013-09-09|\n",
            "|         US|   42122667|R3M4WVTY2Z55P2|B00A25FAYO|     372533501|Shirley Jones: A ...|Digital_Ebook_Pur...|          1|            8|         11|   N|                Y|A Big Disappointment|I was disappointe...| 2013-09-09|\n",
            "|         US|   12175486|R23FKBEXURC3SN|B00F225YK2|     953280558|Very Bad Things (...|Digital_Ebook_Pur...|          5|           28|         36|   N|                N|Holy Hotness, Bla...|Another Fave of 2...| 2013-09-09|\n",
            "|         US|   44452250|R33UMCKRPNG93M|B00ESO32Q8|     806205457|Switch (New World...|Digital_Ebook_Pur...|          2|           12|         12|   N|                N|Good and Bad Elem...|This is a hard bo...| 2013-09-09|\n",
            "|         US|   13678613| R4IAIDV5EE84W|B003WUYQG4|      58271710|Fear and Loathing...|Digital_Ebook_Pur...|          1|            8|         21|   N|                Y|Horrible - hated ...|Absolutely hated ...| 2013-09-09|\n",
            "|         US|   51118055|R2HYOTFLI8HLZF|B006B7LSDY|     130327682|The Non-Runner's ...|Digital_Ebook_Pur...|          5|           17|         17|   N|                Y|My first marathon...|I just completed ...| 2013-09-09|\n",
            "|         US|   49229787|R23K526P3U3A41|B00C5M8ABC|     724401400|Lady Justice and ...|Digital_Ebook_Pur...|          4|            9|         10|   N|                Y|Lady Justice and ...|I really enjoyed ...| 2013-09-09|\n",
            "|         US|   12953712|R23WMUVCQMBOM5|B00EX73LMA|     736473967|Darkness Falls Up...|Digital_Ebook_Pur...|          1|            6|         10|   N|                N|this is a vampire...|…and not a very g...| 2013-09-09|\n",
            "|         US|   28507300| RTRVYV0GWUTCK|B00EY3DN58|     694178149|there was no Jesu...|Digital_Ebook_Pur...|          5|           18|         25|   N|                Y|Great discussion ...|It is great to ha...| 2013-09-09|\n",
            "|         US|   18309091|R3QLZAI37SNOOC|B00DMA6W16|     180312277|     Love In Between|Digital_Ebook_Pur...|          2|           30|         31|   N|                Y|Elementary at best..|After reading all...| 2013-09-09|\n",
            "|         US|   14998358| RT3UO835FFXVF|B00F28ICBE|     920331126|Cage (Corps Secur...|Digital_Ebook_Pur...|          5|           10|         11|   N|                N|Hot. Delicious. C...|Harper Sloan has ...| 2013-09-09|\n",
            "|         US|   13501432|R21I6KETZPG18B|B00F0TWIIS|     340545163|Whiskey Lullaby (...|Digital_Ebook_Pur...|          5|           10|         15|   N|                N|           Loved it!|I loved this book...| 2013-09-09|\n",
            "|         US|   12288224|R1L55K5CDLYYI9|B00EPOJ5Z8|     138269732|Cellulite Killers...|Digital_Ebook_Pur...|          5|           17|         18|   N|                Y|No more fake crea...|Got this book to ...| 2013-09-09|\n",
            "|         US|   38563267|R1O7XXVT47J90Y|B00CWJOUYO|     237824424|The Rules of Drea...|Digital_Ebook_Pur...|          1|            9|         14|   N|                Y|                yuck|not believable in...| 2013-09-09|\n",
            "|         US|   51737066|R2H4CFAFGKAE2E|B00E5JZ09I|     838742471|   The Witch's Cabin|Digital_Ebook_Pur...|          3|           10|         11|   N|                Y|Disturbing yet Co...|This book was sus...| 2013-09-09|\n",
            "|         US|   22835909| RC29D5DNKRWMJ|B00BMHUDP2|     166022599|The Billionaire's...|Digital_Ebook_Pur...|          5|           10|         10|   N|                Y|          Wonderful!|Excellent writing...| 2013-09-09|\n",
            "|         US|   16432598|R1QYZU3RS4CY4F|B00EP4SFOK|     758167516|Slow Cooking for ...|Digital_Ebook_Pur...|          5|           66|         76|   N|                N|  Just What I Needed|Being recent empt...| 2013-09-09|\n",
            "|         US|   26549105| RJ9IZEZUX67UC|B004TPBQA0|     967493552|The Children of O...|Digital_Ebook_Pur...|          5|           13|         13|   N|                Y|Easy to read Nors...|I am only about h...| 2013-09-09|\n",
            "+-----------+-----------+--------------+----------+--------------+--------------------+--------------------+-----------+-------------+-----------+----+-----------------+--------------------+--------------------+-----------+\n",
            "only showing top 20 rows\n",
            "\n"
          ]
        }
      ]
    },
    {
      "cell_type": "code",
      "source": [
        "from pyspark.sql.functions import count\n",
        "# Total number of reviews for each dataframe from Step 3 and Step 4:\n",
        "vine_review_count = vine_review_df.count()\n",
        "print(\"Total Number of Reviews PAID and 'helpful': %f\" % vine_review_count)\n",
        "\n",
        "novine_review_count = novine_review_df.count()\n",
        "print(\"Total Number of Reviews NON-PAID and 'helpful': %f\" % novine_review_count)"
      ],
      "metadata": {
        "colab": {
          "base_uri": "https://localhost:8080/"
        },
        "id": "G5ZABAtQenFx",
        "outputId": "85fb98dd-d8a3-4d1f-bd30-6519147f2adf"
      },
      "execution_count": null,
      "outputs": [
        {
          "output_type": "stream",
          "name": "stdout",
          "text": [
            "Total Number of Reviews PAID and 'helpful': 0.000000\n",
            "Total Number of Reviews NON-PAID and 'helpful': 194191.000000\n"
          ]
        }
      ]
    },
    {
      "cell_type": "code",
      "source": [
        "# Number of 5-star Reviews for above Paid and Non-Paid dataframes\n",
        "star5_vine_df = vine_review_df.filter(novine_review_df[\"star_rating\"]==\"5\")\n",
        "print(\"Total Number of 5-star Reviews PAID and 'helpful': %f\" % star5_vine_df.count())\n",
        "\n",
        "\n",
        "star5_novine_df = novine_review_df.filter(novine_review_df[\"star_rating\"]==\"5\")\n",
        "print(\"Total Number of 5-star Reviews NON-PAID and 'helpful': %f\" % star5_novine_df.count())"
      ],
      "metadata": {
        "colab": {
          "base_uri": "https://localhost:8080/"
        },
        "id": "hzk1FXo9er__",
        "outputId": "9ee34e4a-8d78-4640-8078-52f73f03793a"
      },
      "execution_count": null,
      "outputs": [
        {
          "output_type": "stream",
          "name": "stdout",
          "text": [
            "Total Number of 5-star Reviews PAID and 'helpful': 0.000000\n",
            "Total Number of 5-star Reviews NON-PAID and 'helpful': 24673.000000\n"
          ]
        }
      ]
    },
    {
      "cell_type": "code",
      "source": [
        "# Percentage of 5-star Reviews for above Paid and Non-Paid dataframes\n",
        "#star5_vine_pct = (star5_vine_df.count()/vine_review_count)\n",
        "#print(\"Percent of 5-Star Digital_Ebook_Purchase reviews from PAID, 'helpful' dataset: %f\" % star5_vine_pct)\n",
        "\n",
        "star5_novine_pct = (star5_novine_df.count()/novine_review_count)\n",
        "print(\"Percent of 5-Star Digital_Ebook_Purchase reviews from NON-PAID, 'helpful' dataset: %f\" % star5_novine_pct)"
      ],
      "metadata": {
        "colab": {
          "base_uri": "https://localhost:8080/"
        },
        "id": "nFrE3NsPeuxl",
        "outputId": "928143d5-e9a1-4e3f-9baf-4627d079b89c"
      },
      "execution_count": null,
      "outputs": [
        {
          "output_type": "stream",
          "name": "stdout",
          "text": [
            "Percent of 5-Star Digital_Ebook_Purchase reviews from NON-PAID, 'helpful' dataset: 0.127055\n"
          ]
        }
      ]
    },
    {
      "cell_type": "code",
      "source": [
        "# Total number of ALL reviews\n",
        "total_reviews_count = df.count()\n",
        "print(\"Total  Digital_Ebook_Purchase reviews: %f\" % total_reviews_count)\n",
        "\n",
        "help_reviews_count = helpful_50_df.count()\n",
        "print(\"Total Number of 'Helpful' Digital_Ebook_Purchase reviews: %f\" % help_reviews_count)"
      ],
      "metadata": {
        "colab": {
          "base_uri": "https://localhost:8080/"
        },
        "id": "SAPwYeNoexUF",
        "outputId": "8670fb32-165e-4b86-e76a-122c0334d04a"
      },
      "execution_count": null,
      "outputs": [
        {
          "output_type": "stream",
          "name": "stdout",
          "text": [
            "Total  Digital_Ebook_Purchase reviews: 5101693.000000\n",
            "Total Number of 'Helpful' Digital_Ebook_Purchase reviews: 194191.000000\n"
          ]
        }
      ]
    },
    {
      "cell_type": "code",
      "source": [
        "#Total number of ALL 5-star reviews\n",
        "star5_df = df.filter(df[\"star_rating\"] == '5')\n",
        "star5_df.show()\n",
        "\n",
        "star5_count = star5_df.count()\n",
        "print(\"Total Number of 5-Star Digital_Ebook_Purchase reviews: %f\" % star5_count)"
      ],
      "metadata": {
        "colab": {
          "base_uri": "https://localhost:8080/"
        },
        "id": "yzmwdBTtez5F",
        "outputId": "9e400964-fc9d-451f-f2db-4a0965fae2de"
      },
      "execution_count": null,
      "outputs": [
        {
          "output_type": "stream",
          "name": "stdout",
          "text": [
            "+-----------+-----------+--------------+----------+--------------+--------------------+--------------------+-----------+-------------+-----------+----+-----------------+--------------------+--------------------+-----------+\n",
            "|marketplace|customer_id|     review_id|product_id|product_parent|       product_title|    product_category|star_rating|helpful_votes|total_votes|vine|verified_purchase|     review_headline|         review_body|review_date|\n",
            "+-----------+-----------+--------------+----------+--------------+--------------------+--------------------+-----------+-------------+-----------+----+-----------------+--------------------+--------------------+-----------+\n",
            "|         US|   39601147| R7DRFHC0F71O0|B00EA3L35O|     535606445|Mary had A Sleepy...|Digital_Ebook_Pur...|          5|            0|          0|   N|                N|This Sleepy Sheep...|I had the opportu...| 2013-09-09|\n",
            "|         US|   17351407|R27LUKEXU3KBXQ|B00BL3JV50|     240053004|          Starstruck|Digital_Ebook_Pur...|          5|            1|          1|   N|                Y|Steamy and suspen...|What a great read...| 2013-09-09|\n",
            "|         US|   10463387|R1VXTPUYMNU687|B00CXU7U80|     931529805|The Complete Cona...|Digital_Ebook_Pur...|          5|            1|          2|   N|                N|          Barbarians|Barbarians need l...| 2013-09-09|\n",
            "|         US|    7145636|R18DPFG2FALJI9|B00BNRJAT6|     856774152|Hide in Plain Sig...|Digital_Ebook_Pur...|          5|            0|          0|   N|                Y|        Awesome book|Very interesting ...| 2013-09-09|\n",
            "|         US|    6285538|R24D677N5WBW5Q|B007FZOXJM|       5589837|Face of Betrayal ...|Digital_Ebook_Pur...|          5|            0|          0|   N|                Y|    Face of betrayal|Really enjoyed th...| 2013-09-09|\n",
            "|         US|   10278048|R2FCJ9BQLSIOR3|B00B6AK7LU|     362701357|Final Justice (A ...|Digital_Ebook_Pur...|          5|            0|          0|   N|                Y|           Very good|I really liked th...| 2013-09-09|\n",
            "|         US|   26001763|R3R5DILCWM8J7B|B00E4W4984|     186117550|  Forgetting Tabitha|Digital_Ebook_Pur...|          5|            0|          0|   N|                Y|It was a wonderfu...|I really enjoyed ...| 2013-09-09|\n",
            "|         US|   45028038|R3K9PJU5GLDY3O|B0044DELIQ|     427899617|Vampire Vacation:...|Digital_Ebook_Pur...|          5|            1|          2|   N|                Y|      Very Good Romp|Enjoyed the chara...| 2013-09-09|\n",
            "|         US|   42554355|R1KTZMCDOJXAEK|B00DJQYATE|     184945574|By the Tail (Coug...|Digital_Ebook_Pur...|          5|            0|          0|   N|                N|    Love this Series|I love the Cougar...| 2013-09-09|\n",
            "|         US|   11251156|R3SBEH4Y3W9W11|B004XFYNNS|     820449163|The Kingdom (A Fa...|Digital_Ebook_Pur...|          5|            0|          0|   N|                Y|    Love this author|I really enjoy Cl...| 2013-09-09|\n",
            "|         US|   34645512| RDM68WMOEDNRJ|B008EGV4BQ|      36906356|The Purpose Drive...|Digital_Ebook_Pur...|          5|            0|          0|   N|                Y|Can't unread it now!|Thanx paster Rick...| 2013-09-09|\n",
            "|         US|   16137650|R3TW70YF2WZK9O|B00655U3WE|     941986263|Insurgent (Diverg...|Digital_Ebook_Pur...|          5|            0|          0|   N|                Y|Great second inst...|As with divergent...| 2013-09-09|\n",
            "|         US|   44803855|R3MCA5W3BZ65OU|B008J4RPWA|     804503161|Summerset Abbey: ...|Digital_Ebook_Pur...|          5|            0|          0|   N|                Y|#2, just as good ...|I love the intera...| 2013-09-09|\n",
            "|         US|   52969190|R2HN3QJ6MHCYV4|B004J4WL2I|     906836320| Night Film: A Novel|Digital_Ebook_Pur...|          5|            2|          2|   N|                Y|          Great Read|This book is a gr...| 2013-09-09|\n",
            "|         US|   50353978| RLBTSSYVHR6HI|B00B1E3MJ0|     459530636|Somebody, Help! I...|Digital_Ebook_Pur...|          5|            0|          1|   N|                Y|This Book is Amaz...|I have read self ...| 2013-09-09|\n",
            "|         US|    6462334|R1ULCNSA7QGR51|B00EHZ4B86|     368221826|The Day My Parent...|Digital_Ebook_Pur...|          5|            1|          1|   N|                N|         Great story|My son loves the ...| 2013-09-09|\n",
            "|         US|   11671697|R2SC2XH96AXGRU|B008YX2GZC|     370501713|January First: A ...|Digital_Ebook_Pur...|          5|            1|          3|   N|                Y|       January First|I chose this rati...| 2013-09-09|\n",
            "|         US|   14268015|R3BPVCV5BYTL9F|B008KS7A3E|     147405126|Emotional Sobriety I|Digital_Ebook_Pur...|          5|            5|          5|   N|                Y|  Lots of experience|Puts peoples expe...| 2013-09-09|\n",
            "|         US|   43580582|R28DYLQHR87YD5|B00E86ENEQ|      99972389|President Barack ...|Digital_Ebook_Pur...|          5|            0|          2|   N|                Y|      Important Read|This important fo...| 2013-09-09|\n",
            "|         US|   37288345|R27EG7P20WFW0J|B00F1HZ9U8|     699131963|The Complete E-Bo...|Digital_Ebook_Pur...|          5|            5|          6|   N|                Y|Liked the Advice ...|I have been stayi...| 2013-09-09|\n",
            "+-----------+-----------+--------------+----------+--------------+--------------------+--------------------+-----------+-------------+-----------+----+-----------------+--------------------+--------------------+-----------+\n",
            "only showing top 20 rows\n",
            "\n",
            "Total Number of 5-Star Digital_Ebook_Purchase reviews: 2952613.000000\n"
          ]
        }
      ]
    },
    {
      "cell_type": "code",
      "source": [
        "#Total number of 5-star HELPFUL reviews\n",
        "star5_help_df = helpful_50_df.filter(helpful_50_df[\"star_rating\"] == '5')\n",
        "star5_help_df.show()\n",
        "\n",
        "star5_help_count = star5_help_df.count()\n",
        "print(\"Total Number of 5-Star 'Helpful' Digital_Ebook_Purchase reviews: %f\" % star5_help_count)"
      ],
      "metadata": {
        "colab": {
          "base_uri": "https://localhost:8080/"
        },
        "id": "bOt2zg-pe2Ym",
        "outputId": "f3485fc9-0489-4ff0-ebb8-bb821eacbf38"
      },
      "execution_count": null,
      "outputs": [
        {
          "output_type": "stream",
          "name": "stdout",
          "text": [
            "+-----------+-----------+--------------+----------+--------------+--------------------+--------------------+-----------+-------------+-----------+----+-----------------+--------------------+--------------------+-----------+\n",
            "|marketplace|customer_id|     review_id|product_id|product_parent|       product_title|    product_category|star_rating|helpful_votes|total_votes|vine|verified_purchase|     review_headline|         review_body|review_date|\n",
            "+-----------+-----------+--------------+----------+--------------+--------------------+--------------------+-----------+-------------+-----------+----+-----------------+--------------------+--------------------+-----------+\n",
            "|         US|   12175486|R23FKBEXURC3SN|B00F225YK2|     953280558|Very Bad Things (...|Digital_Ebook_Pur...|          5|           28|         36|   N|                N|Holy Hotness, Bla...|Another Fave of 2...| 2013-09-09|\n",
            "|         US|   51118055|R2HYOTFLI8HLZF|B006B7LSDY|     130327682|The Non-Runner's ...|Digital_Ebook_Pur...|          5|           17|         17|   N|                Y|My first marathon...|I just completed ...| 2013-09-09|\n",
            "|         US|   28507300| RTRVYV0GWUTCK|B00EY3DN58|     694178149|there was no Jesu...|Digital_Ebook_Pur...|          5|           18|         25|   N|                Y|Great discussion ...|It is great to ha...| 2013-09-09|\n",
            "|         US|   14998358| RT3UO835FFXVF|B00F28ICBE|     920331126|Cage (Corps Secur...|Digital_Ebook_Pur...|          5|           10|         11|   N|                N|Hot. Delicious. C...|Harper Sloan has ...| 2013-09-09|\n",
            "|         US|   13501432|R21I6KETZPG18B|B00F0TWIIS|     340545163|Whiskey Lullaby (...|Digital_Ebook_Pur...|          5|           10|         15|   N|                N|           Loved it!|I loved this book...| 2013-09-09|\n",
            "|         US|   12288224|R1L55K5CDLYYI9|B00EPOJ5Z8|     138269732|Cellulite Killers...|Digital_Ebook_Pur...|          5|           17|         18|   N|                Y|No more fake crea...|Got this book to ...| 2013-09-09|\n",
            "|         US|   22835909| RC29D5DNKRWMJ|B00BMHUDP2|     166022599|The Billionaire's...|Digital_Ebook_Pur...|          5|           10|         10|   N|                Y|          Wonderful!|Excellent writing...| 2013-09-09|\n",
            "|         US|   16432598|R1QYZU3RS4CY4F|B00EP4SFOK|     758167516|Slow Cooking for ...|Digital_Ebook_Pur...|          5|           66|         76|   N|                N|  Just What I Needed|Being recent empt...| 2013-09-09|\n",
            "|         US|   26549105| RJ9IZEZUX67UC|B004TPBQA0|     967493552|The Children of O...|Digital_Ebook_Pur...|          5|           13|         13|   N|                Y|Easy to read Nors...|I am only about h...| 2013-09-09|\n",
            "|         US|   30215870| RDIJC8I0XGNWF|B00EXV57LO|     435353218|Sky Hunter (Targo...|Digital_Ebook_Pur...|          5|           13|         15|   N|                Y|           Fantastic|I ordered The Cat...| 2013-09-09|\n",
            "|         US|   11410696|R32QSAAN87N7J1|B00ESG4TLS|     102914167|Good (Too Good se...|Digital_Ebook_Pur...|          5|           15|         18|   N|                Y|One of the BEST B...|Let me be clear. ...| 2013-09-09|\n",
            "|         US|   43177427|R2FLDWIGHITO0D|B00EVVOT1K|     181613148|The Billionaire's...|Digital_Ebook_Pur...|          5|           16|         18|   N|                Y| You Gotta Love Max!|I just love this ...| 2013-09-09|\n",
            "|         US|   49408728|R38NW44NY19VAZ|B00ENN17MU|     611474610|The Metabolic Sto...|Digital_Ebook_Pur...|          5|           30|         32|   N|                Y|Finally, somebody...|Thank goodness we...| 2013-09-09|\n",
            "|         US|   51434684|R2IXQCDXKUF4H4|B00EMTDMFA|     787599774|Tempted in the Tr...|Digital_Ebook_Pur...|          5|            9|         10|   N|                N|The Autumn Review...|4.5 stars<br />Te...| 2013-09-09|\n",
            "|         US|    6251921|R2G0H39WQLDJ7C|B00E3EQNUA|     466124887|       Undescribable|Digital_Ebook_Pur...|          5|           11|         12|   N|                Y|       Undescribable|I loved this stor...| 2013-09-09|\n",
            "|         US|   15242244|R33RDOJN5XZ8HB|B00A2XN7EQ|     899260017|The End of an Ill...|Digital_Ebook_Pur...|          5|           10|         10|   N|                Y|Earl Doherty's Re...|Having read Bart ...| 2013-09-09|\n",
            "|         US|   16206300|R3L7DCI4OC6R64|B001PO5B8G|      11287830|Just F*ck Me! - W...|Digital_Ebook_Pur...|          5|           11|         12|   N|                Y|Required reading ...|This was a fun an...| 2013-09-09|\n",
            "|         US|   40658438|R3CIUKTZCF2XLA|B005ED65AM|     531773564|Henry Wood Detect...|Digital_Ebook_Pur...|          5|           13|         15|   N|                Y|Left me wanting m...|...of Henry Wood,...| 2013-09-09|\n",
            "|         US|   13358431| RCN3FVN6VV82N|B00EO8V53U|     962841390|A Home for Waywar...|Digital_Ebook_Pur...|          5|           14|         16|   N|                Y|Wow couldn't stop...|I loved the book....| 2013-09-09|\n",
            "|         US|   15195886| RP3K0YBQIVGXZ|B00F27B8YI|     138739715|BLACK (Hard-boile...|Digital_Ebook_Pur...|          5|           57|         63|   N|                Y|A great, new char...|Russell Blake is ...| 2013-09-09|\n",
            "+-----------+-----------+--------------+----------+--------------+--------------------+--------------------+-----------+-------------+-----------+----+-----------------+--------------------+--------------------+-----------+\n",
            "only showing top 20 rows\n",
            "\n",
            "Total Number of 5-Star 'Helpful' Digital_Ebook_Purchase reviews: 75488.000000\n"
          ]
        }
      ]
    },
    {
      "cell_type": "code",
      "source": [
        "# Percentage of ALL 5-star reviews paid vs non-paid \n",
        "# 5-star Paid reviews \n",
        "vine_star5_all_df = star5_df.filter(star5_df[\"vine\"] == \"Y\")\n",
        "vine_star5_all_count = vine_star5_all_df.count()\n",
        "\n",
        "vine_star5_all_pct = (vine_star5_all_count/star5_count)\n",
        "print(\"Number of 5-Star Digital_Ebook_Purchase reviews PAID: %f\" % vine_star5_all_count)\n",
        "print(\"Percent of 5-Star Digital_Ebook_Purchase reviews PAID: %f\" % vine_star5_all_pct)\n",
        " \n",
        "#5-star Non-Paid reviews\n",
        "novine_star5_all_df = star5_df.filter(star5_df[\"vine\"] == \"N\")\n",
        "novine_star5_all_count = novine_star5_all_df.count()\n",
        "\n",
        "novine_star5_all_pct = novine_star5_all_count/star5_count\n",
        "print(\"Number of Digital_Ebook_Purchase reviews NON-PAID: %f\" % novine_star5_all_count)\n",
        "print(\"Percent of 5-Star Digital_Ebook_Purchase reviews NON-PAID: %f\" % novine_star5_all_pct)"
      ],
      "metadata": {
        "colab": {
          "base_uri": "https://localhost:8080/"
        },
        "id": "C9zyqz3Ye5Hf",
        "outputId": "04e2b6e5-a503-4a17-d3c6-0db3c3545c9c"
      },
      "execution_count": null,
      "outputs": [
        {
          "output_type": "stream",
          "name": "stdout",
          "text": [
            "Number of 5-Star Digital_Ebook_Purchase reviews PAID: 9.000000\n",
            "Percent of 5-Star Digital_Ebook_Purchase reviews PAID: 0.000003\n",
            "Number of Digital_Ebook_Purchase reviews NON-PAID: 2952604.000000\n",
            "Percent of 5-Star Digital_Ebook_Purchase reviews NON-PAID: 0.999997\n"
          ]
        }
      ]
    },
    {
      "cell_type": "code",
      "source": [
        "# Percentage of HELPFUL 5-star reviews paid vs non-paid (% of 5 star reviews in Step 3 dataframe) \n",
        "# 5-star Paid \"helpful\" reviews \n",
        "vine_star5_help_df = star5_help_df.filter(star5_help_df[\"vine\"] == \"Y\")\n",
        "vine_star5_help_count = vine_star5_help_df.count()\n",
        "\n",
        "vine_star5_help_pct = (vine_star5_help_count/star5_help_count)\n",
        "print(\"Number of 5-Star, 'Helpful' Digital_Ebook_Purchase reviews PAID: %f\" % vine_star5_help_count)\n",
        "print(\"Percent of 5-Star,'Helpful'Digital_Ebook_Purchase reviews PAID: %f\" % vine_star5_help_pct)\n",
        " \n",
        "#5-star Non-Paid \"helpful\" reviews\n",
        "novine_star5_help_df = star5_help_df.filter(star5_help_df[\"vine\"] == \"N\")\n",
        "novine_star5_help_count = novine_star5_help_df.count()\n",
        "\n",
        "novine_star5_help_pct = novine_star5_help_count/star5_help_count\n",
        "print(\"Number of 5-Star, 'Helpful' Digital_Ebook_Purchase reviews NON-PAID: %f\" % novine_star5_help_count)\n",
        "print(\"Percent of 5-Star,'Helpful'Digital_Ebook_Purchase reviews NON-PAID: %f\" % novine_star5_help_pct)"
      ],
      "metadata": {
        "colab": {
          "base_uri": "https://localhost:8080/"
        },
        "id": "a7XF2_21e7vv",
        "outputId": "34aefec8-a0d4-4112-94d7-f931b3bcac40"
      },
      "execution_count": null,
      "outputs": [
        {
          "output_type": "stream",
          "name": "stdout",
          "text": [
            "Number of 5-Star, 'Helpful' Digital_Ebook_Purchase reviews PAID: 0.000000\n",
            "Percent of 5-Star,'Helpful'Digital_Ebook_Purchase reviews PAID: 0.000000\n",
            "Number of 5-Star, 'Helpful' Digital_Ebook_Purchase reviews NON-PAID: 75488.000000\n",
            "Percent of 5-Star,'Helpful'Digital_Ebook_Purchase reviews NON-PAID: 1.000000\n"
          ]
        }
      ]
    }
  ]
}